{
  "nbformat": 4,
  "nbformat_minor": 0,
  "metadata": {
    "colab": {
      "name": "주빈콜랩.ipynb",
      "provenance": [],
      "collapsed_sections": [],
      "toc_visible": true,
      "authorship_tag": "ABX9TyNGdde7Xp66jA4CFBO73yWY",
      "include_colab_link": true
    },
    "kernelspec": {
      "name": "python3",
      "display_name": "Python 3"
    },
    "language_info": {
      "name": "python"
    }
  },
  "cells": [
    {
      "cell_type": "markdown",
      "metadata": {
        "id": "view-in-github",
        "colab_type": "text"
      },
      "source": [
        "<a href=\"https://colab.research.google.com/github/sonmoopyo/U15-/blob/u15-condition/condition/%EC%A3%BC%EB%B9%88%EC%BD%9C%EB%9E%A9.ipynb\" target=\"_parent\"><img src=\"https://colab.research.google.com/assets/colab-badge.svg\" alt=\"Open In Colab\"/></a>"
      ]
    },
    {
      "cell_type": "code",
      "metadata": {
        "colab": {
          "base_uri": "https://localhost:8080/"
        },
        "id": "qG1AsW-C5EAO",
        "outputId": "6e1c7635-ee76-46f5-ff3b-b038de7f6e7c"
      },
      "source": [
        "from sklearn.cluster import KMeans\n",
        "import numpy as np\n",
        "import pandas as pd\n",
        "import matplotlib as plt\n",
        "%matplotlib\n",
        "import matplotlib.pyplot as plt\n",
        "import seaborn as sns"
      ],
      "execution_count": 11,
      "outputs": [
        {
          "output_type": "stream",
          "name": "stdout",
          "text": [
            "Using matplotlib backend: agg\n"
          ]
        }
      ]
    },
    {
      "cell_type": "code",
      "metadata": {
        "id": "_sNFUiGH5SzM"
      },
      "source": [
        "# '한글' 패키치 rebuild\n",
        "import matplotlib \n",
        "matplotlib.font_manager._rebuild()"
      ],
      "execution_count": 12,
      "outputs": []
    },
    {
      "cell_type": "code",
      "metadata": {
        "id": "Fux7Yigr5T2L"
      },
      "source": [
        "# '한글' 패키지 font setting\n",
        "from matplotlib import font_manager\n",
        "plt.rcParams['font.family'] = 'AppleGothic'"
      ],
      "execution_count": 13,
      "outputs": []
    },
    {
      "cell_type": "code",
      "metadata": {
        "id": "x2_7lV1J5V1R"
      },
      "source": [
        "test = pd.read_csv(\"/content/수원삼성 U15 컨디션.csv\")"
      ],
      "execution_count": 14,
      "outputs": []
    },
    {
      "cell_type": "code",
      "metadata": {
        "colab": {
          "base_uri": "https://localhost:8080/",
          "height": 206
        },
        "id": "jV5lupyJ5ZDR",
        "outputId": "8809d183-4b32-4d75-c083-0b593a62979c"
      },
      "source": [
        "test.head()"
      ],
      "execution_count": 15,
      "outputs": [
        {
          "output_type": "execute_result",
          "data": {
            "text/html": [
              "<div>\n",
              "<style scoped>\n",
              "    .dataframe tbody tr th:only-of-type {\n",
              "        vertical-align: middle;\n",
              "    }\n",
              "\n",
              "    .dataframe tbody tr th {\n",
              "        vertical-align: top;\n",
              "    }\n",
              "\n",
              "    .dataframe thead th {\n",
              "        text-align: right;\n",
              "    }\n",
              "</style>\n",
              "<table border=\"1\" class=\"dataframe\">\n",
              "  <thead>\n",
              "    <tr style=\"text-align: right;\">\n",
              "      <th></th>\n",
              "      <th>userId</th>\n",
              "      <th>name</th>\n",
              "      <th>body</th>\n",
              "      <th>mood</th>\n",
              "      <th>fatigue</th>\n",
              "      <th>stress</th>\n",
              "      <th>quality</th>\n",
              "      <th>duration</th>\n",
              "      <th>Condition</th>\n",
              "      <th>time</th>\n",
              "    </tr>\n",
              "  </thead>\n",
              "  <tbody>\n",
              "    <tr>\n",
              "      <th>0</th>\n",
              "      <td>18987</td>\n",
              "      <td>박시운</td>\n",
              "      <td>7</td>\n",
              "      <td>7</td>\n",
              "      <td>4.0</td>\n",
              "      <td>4.0</td>\n",
              "      <td>7</td>\n",
              "      <td>510</td>\n",
              "      <td>7.50</td>\n",
              "      <td>2021-11-29 13:46:24</td>\n",
              "    </tr>\n",
              "    <tr>\n",
              "      <th>1</th>\n",
              "      <td>18693</td>\n",
              "      <td>이지호</td>\n",
              "      <td>6</td>\n",
              "      <td>6</td>\n",
              "      <td>5.0</td>\n",
              "      <td>6.0</td>\n",
              "      <td>9</td>\n",
              "      <td>570</td>\n",
              "      <td>7.00</td>\n",
              "      <td>2021-11-29 11:37:34</td>\n",
              "    </tr>\n",
              "    <tr>\n",
              "      <th>2</th>\n",
              "      <td>18963</td>\n",
              "      <td>임현섭</td>\n",
              "      <td>6</td>\n",
              "      <td>7</td>\n",
              "      <td>5.0</td>\n",
              "      <td>3.0</td>\n",
              "      <td>7</td>\n",
              "      <td>570</td>\n",
              "      <td>7.33</td>\n",
              "      <td>2021-11-29 11:26:33</td>\n",
              "    </tr>\n",
              "    <tr>\n",
              "      <th>3</th>\n",
              "      <td>22402</td>\n",
              "      <td>김성주</td>\n",
              "      <td>5</td>\n",
              "      <td>7</td>\n",
              "      <td>8.0</td>\n",
              "      <td>7.0</td>\n",
              "      <td>5</td>\n",
              "      <td>210</td>\n",
              "      <td>4.33</td>\n",
              "      <td>2021-11-29 11:13:12</td>\n",
              "    </tr>\n",
              "    <tr>\n",
              "      <th>4</th>\n",
              "      <td>18743</td>\n",
              "      <td>고재윤</td>\n",
              "      <td>7</td>\n",
              "      <td>8</td>\n",
              "      <td>6.0</td>\n",
              "      <td>5.0</td>\n",
              "      <td>9</td>\n",
              "      <td>480</td>\n",
              "      <td>7.50</td>\n",
              "      <td>2021-11-29 08:58:02</td>\n",
              "    </tr>\n",
              "  </tbody>\n",
              "</table>\n",
              "</div>"
            ],
            "text/plain": [
              "   userId  name  body  mood  ...  quality  duration  Condition                 time\n",
              "0   18987   박시운     7     7  ...        7       510       7.50  2021-11-29 13:46:24\n",
              "1   18693   이지호     6     6  ...        9       570       7.00  2021-11-29 11:37:34\n",
              "2   18963   임현섭     6     7  ...        7       570       7.33  2021-11-29 11:26:33\n",
              "3   22402   김성주     5     7  ...        5       210       4.33  2021-11-29 11:13:12\n",
              "4   18743  고재윤      7     8  ...        9       480       7.50  2021-11-29 08:58:02\n",
              "\n",
              "[5 rows x 10 columns]"
            ]
          },
          "metadata": {},
          "execution_count": 15
        }
      ]
    },
    {
      "cell_type": "code",
      "metadata": {
        "colab": {
          "base_uri": "https://localhost:8080/",
          "height": 300
        },
        "id": "Ieg5qwt95nc-",
        "outputId": "055debd3-fa62-4049-b387-08526bf1fed0"
      },
      "source": [
        "test.corr()"
      ],
      "execution_count": 16,
      "outputs": [
        {
          "output_type": "execute_result",
          "data": {
            "text/html": [
              "<div>\n",
              "<style scoped>\n",
              "    .dataframe tbody tr th:only-of-type {\n",
              "        vertical-align: middle;\n",
              "    }\n",
              "\n",
              "    .dataframe tbody tr th {\n",
              "        vertical-align: top;\n",
              "    }\n",
              "\n",
              "    .dataframe thead th {\n",
              "        text-align: right;\n",
              "    }\n",
              "</style>\n",
              "<table border=\"1\" class=\"dataframe\">\n",
              "  <thead>\n",
              "    <tr style=\"text-align: right;\">\n",
              "      <th></th>\n",
              "      <th>userId</th>\n",
              "      <th>body</th>\n",
              "      <th>mood</th>\n",
              "      <th>fatigue</th>\n",
              "      <th>stress</th>\n",
              "      <th>quality</th>\n",
              "      <th>duration</th>\n",
              "      <th>Condition</th>\n",
              "    </tr>\n",
              "  </thead>\n",
              "  <tbody>\n",
              "    <tr>\n",
              "      <th>userId</th>\n",
              "      <td>1.000000</td>\n",
              "      <td>-0.082608</td>\n",
              "      <td>-0.089692</td>\n",
              "      <td>0.076190</td>\n",
              "      <td>0.037496</td>\n",
              "      <td>-0.065294</td>\n",
              "      <td>-0.127617</td>\n",
              "      <td>-0.096138</td>\n",
              "    </tr>\n",
              "    <tr>\n",
              "      <th>body</th>\n",
              "      <td>-0.082608</td>\n",
              "      <td>1.000000</td>\n",
              "      <td>0.586653</td>\n",
              "      <td>-0.546273</td>\n",
              "      <td>-0.529191</td>\n",
              "      <td>0.320033</td>\n",
              "      <td>0.133126</td>\n",
              "      <td>0.771581</td>\n",
              "    </tr>\n",
              "    <tr>\n",
              "      <th>mood</th>\n",
              "      <td>-0.089692</td>\n",
              "      <td>0.586653</td>\n",
              "      <td>1.000000</td>\n",
              "      <td>-0.522155</td>\n",
              "      <td>-0.578125</td>\n",
              "      <td>0.390662</td>\n",
              "      <td>0.165982</td>\n",
              "      <td>0.790567</td>\n",
              "    </tr>\n",
              "    <tr>\n",
              "      <th>fatigue</th>\n",
              "      <td>0.076190</td>\n",
              "      <td>-0.546273</td>\n",
              "      <td>-0.522155</td>\n",
              "      <td>1.000000</td>\n",
              "      <td>0.729380</td>\n",
              "      <td>-0.421420</td>\n",
              "      <td>-0.135394</td>\n",
              "      <td>-0.829357</td>\n",
              "    </tr>\n",
              "    <tr>\n",
              "      <th>stress</th>\n",
              "      <td>0.037496</td>\n",
              "      <td>-0.529191</td>\n",
              "      <td>-0.578125</td>\n",
              "      <td>0.729380</td>\n",
              "      <td>1.000000</td>\n",
              "      <td>-0.381812</td>\n",
              "      <td>-0.102554</td>\n",
              "      <td>-0.816361</td>\n",
              "    </tr>\n",
              "    <tr>\n",
              "      <th>quality</th>\n",
              "      <td>-0.065294</td>\n",
              "      <td>0.320033</td>\n",
              "      <td>0.390662</td>\n",
              "      <td>-0.421420</td>\n",
              "      <td>-0.381812</td>\n",
              "      <td>1.000000</td>\n",
              "      <td>0.208444</td>\n",
              "      <td>0.681344</td>\n",
              "    </tr>\n",
              "    <tr>\n",
              "      <th>duration</th>\n",
              "      <td>-0.127617</td>\n",
              "      <td>0.133126</td>\n",
              "      <td>0.165982</td>\n",
              "      <td>-0.135394</td>\n",
              "      <td>-0.102554</td>\n",
              "      <td>0.208444</td>\n",
              "      <td>1.000000</td>\n",
              "      <td>0.295137</td>\n",
              "    </tr>\n",
              "    <tr>\n",
              "      <th>Condition</th>\n",
              "      <td>-0.096138</td>\n",
              "      <td>0.771581</td>\n",
              "      <td>0.790567</td>\n",
              "      <td>-0.829357</td>\n",
              "      <td>-0.816361</td>\n",
              "      <td>0.681344</td>\n",
              "      <td>0.295137</td>\n",
              "      <td>1.000000</td>\n",
              "    </tr>\n",
              "  </tbody>\n",
              "</table>\n",
              "</div>"
            ],
            "text/plain": [
              "             userId      body      mood  ...   quality  duration  Condition\n",
              "userId     1.000000 -0.082608 -0.089692  ... -0.065294 -0.127617  -0.096138\n",
              "body      -0.082608  1.000000  0.586653  ...  0.320033  0.133126   0.771581\n",
              "mood      -0.089692  0.586653  1.000000  ...  0.390662  0.165982   0.790567\n",
              "fatigue    0.076190 -0.546273 -0.522155  ... -0.421420 -0.135394  -0.829357\n",
              "stress     0.037496 -0.529191 -0.578125  ... -0.381812 -0.102554  -0.816361\n",
              "quality   -0.065294  0.320033  0.390662  ...  1.000000  0.208444   0.681344\n",
              "duration  -0.127617  0.133126  0.165982  ...  0.208444  1.000000   0.295137\n",
              "Condition -0.096138  0.771581  0.790567  ...  0.681344  0.295137   1.000000\n",
              "\n",
              "[8 rows x 8 columns]"
            ]
          },
          "metadata": {},
          "execution_count": 16
        }
      ]
    },
    {
      "cell_type": "code",
      "metadata": {
        "colab": {
          "base_uri": "https://localhost:8080/",
          "height": 386
        },
        "id": "BO1LC4tn5qA6",
        "outputId": "47778774-ee86-482b-9e46-0f6119f53180"
      },
      "source": [
        "sns.lmplot(x = 'fatigue', y = 'stress', data = test)\n",
        "plt.show()"
      ],
      "execution_count": null,
      "outputs": [
        {
          "output_type": "stream",
          "name": "stderr",
          "text": [
            "findfont: Font family ['AppleGothic'] not found. Falling back to DejaVu Sans.\n"
          ]
        },
        {
          "output_type": "display_data",
          "data": {
            "image/png": "[encoded data removed]",
            "text/plain": [
              "<Figure size 360x360 with 1 Axes>"
            ]
          },
          "metadata": {
            "needs_background": "light"
          }
        }
      ]
    }
  ]
}